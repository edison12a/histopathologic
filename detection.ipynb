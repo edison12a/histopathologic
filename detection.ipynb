{
 "cells": [
  {
   "cell_type": "markdown",
   "id": "94e9cd44",
   "metadata": {},
   "source": [
    "# Histopathologic Cancer Detection\n",
    "\n",
    "This notebook is for the Kaggle competition on detecting metastatic cancer in small histopathologic image patches. The goal is to build a binary classification model to predict the probability of tumor presence in each image."
   ]
  },
  {
   "cell_type": "code",
   "execution_count": null,
   "id": "a432f9a5",
   "metadata": {},
   "outputs": [],
   "source": [
    "\n",
    "import numpy as np\n",
    "import pandas as pd\n",
    "import os\n",
    "import matplotlib.pyplot as plt\n",
    "import seaborn as sns\n",
    "import tensorflow as tf\n",
    "from tensorflow import keras\n",
    "from tensorflow.keras.models import Sequential\n",
    "from tensorflow.keras.layers import Conv2D, MaxPooling2D, Flatten, Dense, Dropout, BatchNormalization\n",
    "from tensorflow.keras.preprocessing.image import ImageDataGenerator\n",
    "from sklearn.model_selection import train_test_split\n",
    "from sklearn.metrics import roc_auc_score\n",
    "\n",
    "# Set data directory\n",
    "DATA_DIR = '../input/histopathologic-cancer-detection/'\n",
    "TRAIN_DIR = os.path.join(DATA_DIR, 'train')\n",
    "TEST_DIR = os.path.join(DATA_DIR, 'test')\n",
    "LABELS_FILE = os.path.join(DATA_DIR, 'train_labels.csv')\n"
   ]
  },
  {
   "cell_type": "code",
   "execution_count": null,
   "id": "2fd42bf1",
   "metadata": {},
   "outputs": [],
   "source": [
    "\n",
    "# Load labels\n",
    "df = pd.read_csv(LABELS_FILE)\n",
    "\n",
    "# Display basic dataset info\n",
    "print(df.head())\n",
    "print(f\"Total images: {len(df)}\")\n",
    "print(f\"Class distribution:\\n{df['label'].value_counts()}\")\n",
    "\n",
    "# Visualizing class distribution\n",
    "sns.countplot(x=df['label'])\n",
    "plt.title('Class Distribution')\n",
    "plt.show()\n"
   ]
  },
  {
   "cell_type": "code",
   "execution_count": null,
   "id": "e0e99666",
   "metadata": {},
   "outputs": [],
   "source": [
    "\n",
    "# Display some sample images\n",
    "def show_images(image_ids, labels, rows=2, cols=5):\n",
    "    fig, axes = plt.subplots(rows, cols, figsize=(12, 6))\n",
    "    for i, ax in enumerate(axes.flat):\n",
    "        img_path = os.path.join(TRAIN_DIR, image_ids[i] + '.tif')\n",
    "        img = plt.imread(img_path)\n",
    "        ax.imshow(img)\n",
    "        ax.set_title(f\"Label: {labels[i]}\")\n",
    "        ax.axis('off')\n",
    "    plt.show()\n",
    "\n",
    "sample = df.sample(10)\n",
    "show_images(sample['id'].values, sample['label'].values)\n"
   ]
  },
  {
   "cell_type": "code",
   "execution_count": null,
   "id": "68c5470d",
   "metadata": {},
   "outputs": [],
   "source": [
    "\n",
    "# Data preprocessing\n",
    "IMG_SIZE = 96  # Resize images\n",
    "BATCH_SIZE = 32\n",
    "\n",
    "train_datagen = ImageDataGenerator(\n",
    "    rescale=1./255,\n",
    "    rotation_range=20,\n",
    "    width_shift_range=0.1,\n",
    "    height_shift_range=0.1,\n",
    "    horizontal_flip=True,\n",
    "    validation_split=0.2  # 20% for validation\n",
    ")\n",
    "\n",
    "train_generator = train_datagen.flow_from_dataframe(\n",
    "    dataframe=df,\n",
    "    directory=TRAIN_DIR,\n",
    "    x_col='id',\n",
    "    y_col='label',\n",
    "    target_size=(IMG_SIZE, IMG_SIZE),\n",
    "    batch_size=BATCH_SIZE,\n",
    "    class_mode='binary',\n",
    "    subset='training'\n",
    ")\n",
    "\n",
    "val_generator = train_datagen.flow_from_dataframe(\n",
    "    dataframe=df,\n",
    "    directory=TRAIN_DIR,\n",
    "    x_col='id',\n",
    "    y_col='label',\n",
    "    target_size=(IMG_SIZE, IMG_SIZE),\n",
    "    batch_size=BATCH_SIZE,\n",
    "    class_mode='binary',\n",
    "    subset='validation'\n",
    ")\n"
   ]
  },
  {
   "cell_type": "code",
   "execution_count": null,
   "id": "b2a185db",
   "metadata": {},
   "outputs": [],
   "source": [
    "\n",
    "# Build a simple CNN model\n",
    "model = Sequential([\n",
    "    Conv2D(32, (3,3), activation='relu', input_shape=(IMG_SIZE, IMG_SIZE, 3)),\n",
    "    MaxPooling2D(2,2),\n",
    "    BatchNormalization(),\n",
    "    Conv2D(64, (3,3), activation='relu'),\n",
    "    MaxPooling2D(2,2),\n",
    "    BatchNormalization(),\n",
    "    Flatten(),\n",
    "    Dense(128, activation='relu'),\n",
    "    Dropout(0.5),\n",
    "    Dense(1, activation='sigmoid')\n",
    "])\n",
    "\n",
    "model.compile(optimizer='adam', loss='binary_crossentropy', metrics=['accuracy'])\n"
   ]
  },
  {
   "cell_type": "code",
   "execution_count": null,
   "id": "866ade99",
   "metadata": {},
   "outputs": [],
   "source": [
    "\n",
    "# Train model\n",
    "history = model.fit(\n",
    "    train_generator,\n",
    "    validation_data=val_generator,\n",
    "    epochs=10\n",
    ")\n"
   ]
  },
  {
   "cell_type": "code",
   "execution_count": null,
   "id": "464f4960",
   "metadata": {},
   "outputs": [],
   "source": [
    "\n",
    "# Plot training history\n",
    "plt.plot(history.history['accuracy'], label='Train Accuracy')\n",
    "plt.plot(history.history['val_accuracy'], label='Validation Accuracy')\n",
    "plt.legend()\n",
    "plt.title('Model Accuracy')\n",
    "plt.show()\n"
   ]
  },
  {
   "cell_type": "code",
   "execution_count": null,
   "id": "eb7ed032",
   "metadata": {},
   "outputs": [],
   "source": [
    "\n",
    "# Save the model\n",
    "model.save('cancer_detection_model.h5')\n"
   ]
  },
  {
   "cell_type": "code",
   "execution_count": null,
   "id": "2013a231",
   "metadata": {},
   "outputs": [],
   "source": [
    "\n",
    "# Generate predictions for the test set\n",
    "test_ids = os.listdir(TEST_DIR)\n",
    "test_images = [os.path.join(TEST_DIR, img_id) for img_id in test_ids]\n",
    "\n",
    "def load_and_preprocess_image(image_path):\n",
    "    img = tf.keras.preprocessing.image.load_img(image_path, target_size=(IMG_SIZE, IMG_SIZE))\n",
    "    img_array = tf.keras.preprocessing.image.img_to_array(img) / 255.0\n",
    "    return img_array\n",
    "\n",
    "test_data = np.array([load_and_preprocess_image(img) for img in test_images])\n",
    "\n",
    "predictions = model.predict(test_data)\n",
    "\n",
    "# Prepare submission file\n",
    "submission_df = pd.DataFrame({'id': [img.split('/')[-1].split('.')[0] for img in test_images],\n",
    "                              'label': predictions.flatten()})\n",
    "submission_df.to_csv('submission.csv', index=False)\n",
    "print(\"Submission file saved!\")\n"
   ]
  }
 ],
 "metadata": {
  "language_info": {
   "name": "python"
  }
 },
 "nbformat": 4,
 "nbformat_minor": 5
}
